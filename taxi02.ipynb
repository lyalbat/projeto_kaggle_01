{
  "nbformat": 4,
  "nbformat_minor": 0,
  "metadata": {
    "colab": {
      "name": "taxi02.ipynb",
      "provenance": [],
      "collapsed_sections": []
    },
    "kernelspec": {
      "name": "python3",
      "display_name": "Python 3"
    }
  },
  "cells": [
    {
      "cell_type": "code",
      "metadata": {
        "id": "qXCTNmHGizVa"
      },
      "source": [
        "#Para manipulação de dados\n",
        "import pandas as pd\n",
        "import numpy as np\n",
        "from datetime import datetime\n",
        "\n",
        "#Para manipulação de arquivos\n",
        "import zipfile\n",
        "import json\n",
        "\n",
        "#Para visualização\n",
        "import matplotlib.pyplot as plt\n",
        "import seaborn as sn\n",
        "import folium\n",
        "from folium.plugins import HeatMap\n",
        "\n",
        "%matplotlib inline"
      ],
      "execution_count": null,
      "outputs": []
    },
    {
      "cell_type": "code",
      "metadata": {
        "colab": {
          "base_uri": "https://localhost:8080/"
        },
        "id": "NY4f8Et8i4Q4",
        "outputId": "fff08375-d19a-49fd-c9f9-015f2f29e8db"
      },
      "source": [
        "#Fornecendo permissão ao drive\n",
        "from google.colab import drive\n",
        "drive.mount('/content/drive')"
      ],
      "execution_count": null,
      "outputs": [
        {
          "output_type": "stream",
          "text": [
            "Mounted at /content/drive\n"
          ],
          "name": "stdout"
        }
      ]
    },
    {
      "cell_type": "code",
      "metadata": {
        "colab": {
          "base_uri": "https://localhost:8080/",
          "height": 394
        },
        "id": "8nU0Qyh3i6Ko",
        "outputId": "32f9c19a-5e83-4702-f11a-d551efd1d9dc"
      },
      "source": [
        "# Importando e lendo o dataset\n",
        "path = '/content/drive/MyDrive/data_taxi/train.csv.zip'\n",
        "z = zipfile.ZipFile(path)\n",
        "train_df = pd.read_csv(z.open('train.csv'), index_col = False)\n",
        "train_df.head()"
      ],
      "execution_count": null,
      "outputs": [
        {
          "output_type": "execute_result",
          "data": {
            "text/html": [
              "<div>\n",
              "<style scoped>\n",
              "    .dataframe tbody tr th:only-of-type {\n",
              "        vertical-align: middle;\n",
              "    }\n",
              "\n",
              "    .dataframe tbody tr th {\n",
              "        vertical-align: top;\n",
              "    }\n",
              "\n",
              "    .dataframe thead th {\n",
              "        text-align: right;\n",
              "    }\n",
              "</style>\n",
              "<table border=\"1\" class=\"dataframe\">\n",
              "  <thead>\n",
              "    <tr style=\"text-align: right;\">\n",
              "      <th></th>\n",
              "      <th>TRIP_ID</th>\n",
              "      <th>CALL_TYPE</th>\n",
              "      <th>ORIGIN_CALL</th>\n",
              "      <th>ORIGIN_STAND</th>\n",
              "      <th>TAXI_ID</th>\n",
              "      <th>TIMESTAMP</th>\n",
              "      <th>DAY_TYPE</th>\n",
              "      <th>MISSING_DATA</th>\n",
              "      <th>POLYLINE</th>\n",
              "    </tr>\n",
              "  </thead>\n",
              "  <tbody>\n",
              "    <tr>\n",
              "      <th>0</th>\n",
              "      <td>1372636858620000589</td>\n",
              "      <td>C</td>\n",
              "      <td>NaN</td>\n",
              "      <td>NaN</td>\n",
              "      <td>20000589</td>\n",
              "      <td>1372636858</td>\n",
              "      <td>A</td>\n",
              "      <td>False</td>\n",
              "      <td>[[-8.618643,41.141412],[-8.618499,41.141376],[...</td>\n",
              "    </tr>\n",
              "    <tr>\n",
              "      <th>1</th>\n",
              "      <td>1372637303620000596</td>\n",
              "      <td>B</td>\n",
              "      <td>NaN</td>\n",
              "      <td>7.0</td>\n",
              "      <td>20000596</td>\n",
              "      <td>1372637303</td>\n",
              "      <td>A</td>\n",
              "      <td>False</td>\n",
              "      <td>[[-8.639847,41.159826],[-8.640351,41.159871],[...</td>\n",
              "    </tr>\n",
              "    <tr>\n",
              "      <th>2</th>\n",
              "      <td>1372636951620000320</td>\n",
              "      <td>C</td>\n",
              "      <td>NaN</td>\n",
              "      <td>NaN</td>\n",
              "      <td>20000320</td>\n",
              "      <td>1372636951</td>\n",
              "      <td>A</td>\n",
              "      <td>False</td>\n",
              "      <td>[[-8.612964,41.140359],[-8.613378,41.14035],[-...</td>\n",
              "    </tr>\n",
              "    <tr>\n",
              "      <th>3</th>\n",
              "      <td>1372636854620000520</td>\n",
              "      <td>C</td>\n",
              "      <td>NaN</td>\n",
              "      <td>NaN</td>\n",
              "      <td>20000520</td>\n",
              "      <td>1372636854</td>\n",
              "      <td>A</td>\n",
              "      <td>False</td>\n",
              "      <td>[[-8.574678,41.151951],[-8.574705,41.151942],[...</td>\n",
              "    </tr>\n",
              "    <tr>\n",
              "      <th>4</th>\n",
              "      <td>1372637091620000337</td>\n",
              "      <td>C</td>\n",
              "      <td>NaN</td>\n",
              "      <td>NaN</td>\n",
              "      <td>20000337</td>\n",
              "      <td>1372637091</td>\n",
              "      <td>A</td>\n",
              "      <td>False</td>\n",
              "      <td>[[-8.645994,41.18049],[-8.645949,41.180517],[-...</td>\n",
              "    </tr>\n",
              "  </tbody>\n",
              "</table>\n",
              "</div>"
            ],
            "text/plain": [
              "               TRIP_ID  ...                                           POLYLINE\n",
              "0  1372636858620000589  ...  [[-8.618643,41.141412],[-8.618499,41.141376],[...\n",
              "1  1372637303620000596  ...  [[-8.639847,41.159826],[-8.640351,41.159871],[...\n",
              "2  1372636951620000320  ...  [[-8.612964,41.140359],[-8.613378,41.14035],[-...\n",
              "3  1372636854620000520  ...  [[-8.574678,41.151951],[-8.574705,41.151942],[...\n",
              "4  1372637091620000337  ...  [[-8.645994,41.18049],[-8.645949,41.180517],[-...\n",
              "\n",
              "[5 rows x 9 columns]"
            ]
          },
          "metadata": {
            "tags": []
          },
          "execution_count": 3
        }
      ]
    },
    {
      "cell_type": "code",
      "metadata": {
        "colab": {
          "base_uri": "https://localhost:8080/"
        },
        "id": "uumCw5Qs9UOI",
        "outputId": "a7b59614-4b1b-4036-e82f-cf9956a15140"
      },
      "source": [
        "# Visualização rápida da base\n",
        "#Descobrindo o formato dos dados\n",
        "train_df.info()\n",
        "train_df.isnull().sum()"
      ],
      "execution_count": null,
      "outputs": [
        {
          "output_type": "stream",
          "text": [
            "<class 'pandas.core.frame.DataFrame'>\n",
            "RangeIndex: 1710670 entries, 0 to 1710669\n",
            "Data columns (total 9 columns):\n",
            " #   Column        Dtype  \n",
            "---  ------        -----  \n",
            " 0   TRIP_ID       int64  \n",
            " 1   CALL_TYPE     object \n",
            " 2   ORIGIN_CALL   float64\n",
            " 3   ORIGIN_STAND  float64\n",
            " 4   TAXI_ID       int64  \n",
            " 5   TIMESTAMP     int64  \n",
            " 6   DAY_TYPE      object \n",
            " 7   MISSING_DATA  bool   \n",
            " 8   POLYLINE      object \n",
            "dtypes: bool(1), float64(2), int64(3), object(3)\n",
            "memory usage: 106.0+ MB\n"
          ],
          "name": "stdout"
        },
        {
          "output_type": "execute_result",
          "data": {
            "text/plain": [
              "TRIP_ID               0\n",
              "CALL_TYPE             0\n",
              "ORIGIN_CALL     1345900\n",
              "ORIGIN_STAND     904091\n",
              "TAXI_ID               0\n",
              "TIMESTAMP             0\n",
              "DAY_TYPE              0\n",
              "MISSING_DATA          0\n",
              "POLYLINE              0\n",
              "dtype: int64"
            ]
          },
          "metadata": {
            "tags": []
          },
          "execution_count": 4
        }
      ]
    },
    {
      "cell_type": "code",
      "metadata": {
        "colab": {
          "base_uri": "https://localhost:8080/",
          "height": 52
        },
        "id": "-dPReMbnzQj8",
        "outputId": "bdcbb6b2-94f0-45ec-864c-790999e6aaba"
      },
      "source": [
        "# Lendo e convertendo o arquivo Geojson em Geodataframe\n",
        "'''\n",
        "sf_path = '/content/drive/MyDrive/data_taxi/porto.json'\n",
        "sf = gpd.read_file(sf_path, encoding='utf-8')\n",
        "mapa_shape = sf.to_crs({'init': 'epsg:4326'})\n",
        "mapa_shape\n",
        "'''"
      ],
      "execution_count": null,
      "outputs": [
        {
          "output_type": "execute_result",
          "data": {
            "application/vnd.google.colaboratory.intrinsic+json": {
              "type": "string"
            },
            "text/plain": [
              "\"\\nsf_path = '/content/drive/MyDrive/data_taxi/porto.json'\\nsf = gpd.read_file(sf_path, encoding='utf-8')\\nmapa_shape = sf.to_crs({'init': 'epsg:4326'})\\nmapa_shape\\n\""
            ]
          },
          "metadata": {
            "tags": []
          },
          "execution_count": 5
        }
      ]
    },
    {
      "cell_type": "code",
      "metadata": {
        "id": "7kMFi6GwkG-K"
      },
      "source": [
        "# Formatando a data de UNIX para datetime\n",
        "train_df['DC'] = [datetime.utcfromtimestamp(i) for i in train_df['TIMESTAMP']]\n",
        "\n",
        "#Separando os valores das datas em novas colunas\n",
        "train_df['Ano'] = train_df['DC'].dt.year\n",
        "train_df['Mes'] = train_df['DC'].dt.month\n",
        "train_df['Dia'] = train_df['DC'].dt.day\n",
        "train_df['Hora'] = train_df['DC'].dt.hour\n",
        "train_df['Minuto'] = train_df['DC'].dt.minute\n",
        "train_df['Dia'] = train_df['DC'].dt.second\n"
      ],
      "execution_count": null,
      "outputs": []
    },
    {
      "cell_type": "code",
      "metadata": {
        "id": "A5UdRpHgWqi7",
        "colab": {
          "base_uri": "https://localhost:8080/"
        },
        "outputId": "724f1185-2702-4abf-dc17-47016f557a61"
      },
      "source": [
        "#Retirando valores duplicados de Trip ID\n",
        "train_df['TRIP_ID'].value_counts()\n",
        "train_df = train_df.drop_duplicates(subset=['TRIP_ID'], keep='first')\n",
        "train_df['TRIP_ID'].value_counts()"
      ],
      "execution_count": null,
      "outputs": [
        {
          "output_type": "execute_result",
          "data": {
            "text/plain": [
              "1384683034620000186    1\n",
              "1400171431620000463    1\n",
              "1374075962620000361    1\n",
              "1388778783620000039    1\n",
              "1389820270620000263    1\n",
              "                      ..\n",
              "1397476421620000468    1\n",
              "1397278730620000534    1\n",
              "1374055651620000247    1\n",
              "1394648368620000633    1\n",
              "1403071175620000484    1\n",
              "Name: TRIP_ID, Length: 1710589, dtype: int64"
            ]
          },
          "metadata": {
            "tags": []
          },
          "execution_count": 6
        }
      ]
    },
    {
      "cell_type": "code",
      "metadata": {
        "id": "3FqqTWnnW-fI",
        "colab": {
          "base_uri": "https://localhost:8080/"
        },
        "outputId": "65802b05-9f53-47f6-c90f-ae22fbbbe201"
      },
      "source": [
        "#Observação sobre Day type\n",
        "train_df['DAY_TYPE'].value_counts()"
      ],
      "execution_count": null,
      "outputs": [
        {
          "output_type": "execute_result",
          "data": {
            "text/plain": [
              "A    1710589\n",
              "Name: DAY_TYPE, dtype: int64"
            ]
          },
          "metadata": {
            "tags": []
          },
          "execution_count": 7
        }
      ]
    },
    {
      "cell_type": "code",
      "metadata": {
        "colab": {
          "base_uri": "https://localhost:8080/",
          "height": 394
        },
        "id": "GvJL6Y9lkXGH",
        "outputId": "4c33e0cd-3e7d-467d-c808-082af6d4cedc"
      },
      "source": [
        "#Formatando a string da Polyline\n",
        "#Baseado no modelo do usuário raymonmina da plataforma Kaggle, notebook: \"Notebook0f2646ced6\"\n",
        "def extract_data(x):\n",
        "    splitted = x[2:-2].split('],[')      \n",
        "    n_15 = len(splitted)\n",
        "    if len(splitted) > 0 and len(splitted[0].split(',')) > 1 :\n",
        "        lon,lat = splitted[0].split(',')\n",
        "        return [lon, lat, n_15]\n",
        "    else :\n",
        "        return '0'\n",
        "\n",
        "train_df['lo_lat']= train_df['POLYLINE'].apply(extract_data)\n",
        "train_df = train_df[train_df.lo_lat != '0']\n",
        "train_df['longitude'] = train_df['lo_lat'].apply(lambda x: float(x[0]) if len(x) > 0 else NULL)\n",
        "train_df['latitude'] = train_df['lo_lat'].apply(lambda x: float(x[1]) if len(x) > 0 else NULL)\n",
        "train_df['n_15'] = train_df['lo_lat'].apply(lambda x: x[2])\n",
        "train_df.tail()"
      ],
      "execution_count": null,
      "outputs": [
        {
          "output_type": "execute_result",
          "data": {
            "text/html": [
              "<div>\n",
              "<style scoped>\n",
              "    .dataframe tbody tr th:only-of-type {\n",
              "        vertical-align: middle;\n",
              "    }\n",
              "\n",
              "    .dataframe tbody tr th {\n",
              "        vertical-align: top;\n",
              "    }\n",
              "\n",
              "    .dataframe thead th {\n",
              "        text-align: right;\n",
              "    }\n",
              "</style>\n",
              "<table border=\"1\" class=\"dataframe\">\n",
              "  <thead>\n",
              "    <tr style=\"text-align: right;\">\n",
              "      <th></th>\n",
              "      <th>TRIP_ID</th>\n",
              "      <th>CALL_TYPE</th>\n",
              "      <th>ORIGIN_CALL</th>\n",
              "      <th>ORIGIN_STAND</th>\n",
              "      <th>TAXI_ID</th>\n",
              "      <th>TIMESTAMP</th>\n",
              "      <th>DAY_TYPE</th>\n",
              "      <th>MISSING_DATA</th>\n",
              "      <th>POLYLINE</th>\n",
              "      <th>DC</th>\n",
              "      <th>Ano</th>\n",
              "      <th>Mes</th>\n",
              "      <th>Dia</th>\n",
              "      <th>Hora</th>\n",
              "      <th>Minuto</th>\n",
              "      <th>lo_lat</th>\n",
              "      <th>longitude</th>\n",
              "      <th>latitude</th>\n",
              "      <th>n_15</th>\n",
              "    </tr>\n",
              "  </thead>\n",
              "  <tbody>\n",
              "    <tr>\n",
              "      <th>1710663</th>\n",
              "      <td>1388660427620000585</td>\n",
              "      <td>C</td>\n",
              "      <td>NaN</td>\n",
              "      <td>NaN</td>\n",
              "      <td>20000585</td>\n",
              "      <td>1388660427</td>\n",
              "      <td>A</td>\n",
              "      <td>False</td>\n",
              "      <td>[[-8.60697,41.162283],[-8.60697,41.16231],[-8....</td>\n",
              "      <td>2014-01-02 11:00:27</td>\n",
              "      <td>2014</td>\n",
              "      <td>1</td>\n",
              "      <td>27</td>\n",
              "      <td>11</td>\n",
              "      <td>0</td>\n",
              "      <td>[-8.60697, 41.162283, 194]</td>\n",
              "      <td>-8.606970</td>\n",
              "      <td>41.162283</td>\n",
              "      <td>194</td>\n",
              "    </tr>\n",
              "    <tr>\n",
              "      <th>1710665</th>\n",
              "      <td>1404171463620000698</td>\n",
              "      <td>C</td>\n",
              "      <td>NaN</td>\n",
              "      <td>NaN</td>\n",
              "      <td>20000698</td>\n",
              "      <td>1404171463</td>\n",
              "      <td>A</td>\n",
              "      <td>False</td>\n",
              "      <td>[[-8.612469,41.14602],[-8.612487,41.145993],[-...</td>\n",
              "      <td>2014-06-30 23:37:43</td>\n",
              "      <td>2014</td>\n",
              "      <td>6</td>\n",
              "      <td>43</td>\n",
              "      <td>23</td>\n",
              "      <td>37</td>\n",
              "      <td>[-8.612469, 41.14602, 32]</td>\n",
              "      <td>-8.612469</td>\n",
              "      <td>41.146020</td>\n",
              "      <td>32</td>\n",
              "    </tr>\n",
              "    <tr>\n",
              "      <th>1710666</th>\n",
              "      <td>1404171367620000670</td>\n",
              "      <td>C</td>\n",
              "      <td>NaN</td>\n",
              "      <td>NaN</td>\n",
              "      <td>20000670</td>\n",
              "      <td>1404171367</td>\n",
              "      <td>A</td>\n",
              "      <td>False</td>\n",
              "      <td>[[-8.610138,41.140845],[-8.610174,41.140935],[...</td>\n",
              "      <td>2014-06-30 23:36:07</td>\n",
              "      <td>2014</td>\n",
              "      <td>6</td>\n",
              "      <td>7</td>\n",
              "      <td>23</td>\n",
              "      <td>36</td>\n",
              "      <td>[-8.610138, 41.140845, 30]</td>\n",
              "      <td>-8.610138</td>\n",
              "      <td>41.140845</td>\n",
              "      <td>30</td>\n",
              "    </tr>\n",
              "    <tr>\n",
              "      <th>1710668</th>\n",
              "      <td>1404141826620000248</td>\n",
              "      <td>B</td>\n",
              "      <td>NaN</td>\n",
              "      <td>12.0</td>\n",
              "      <td>20000248</td>\n",
              "      <td>1404141826</td>\n",
              "      <td>A</td>\n",
              "      <td>False</td>\n",
              "      <td>[[-8.630712,41.154885],[-8.63073,41.154813],[-...</td>\n",
              "      <td>2014-06-30 15:23:46</td>\n",
              "      <td>2014</td>\n",
              "      <td>6</td>\n",
              "      <td>46</td>\n",
              "      <td>15</td>\n",
              "      <td>23</td>\n",
              "      <td>[-8.630712, 41.154885, 62]</td>\n",
              "      <td>-8.630712</td>\n",
              "      <td>41.154885</td>\n",
              "      <td>62</td>\n",
              "    </tr>\n",
              "    <tr>\n",
              "      <th>1710669</th>\n",
              "      <td>1404157147620000079</td>\n",
              "      <td>B</td>\n",
              "      <td>NaN</td>\n",
              "      <td>34.0</td>\n",
              "      <td>20000079</td>\n",
              "      <td>1404157147</td>\n",
              "      <td>A</td>\n",
              "      <td>False</td>\n",
              "      <td>[[-8.615538,41.140629],[-8.615421,41.140746],[...</td>\n",
              "      <td>2014-06-30 19:39:07</td>\n",
              "      <td>2014</td>\n",
              "      <td>6</td>\n",
              "      <td>7</td>\n",
              "      <td>19</td>\n",
              "      <td>39</td>\n",
              "      <td>[-8.615538, 41.140629, 27]</td>\n",
              "      <td>-8.615538</td>\n",
              "      <td>41.140629</td>\n",
              "      <td>27</td>\n",
              "    </tr>\n",
              "  </tbody>\n",
              "</table>\n",
              "</div>"
            ],
            "text/plain": [
              "                     TRIP_ID CALL_TYPE  ORIGIN_CALL  ...  longitude   latitude  n_15\n",
              "1710663  1388660427620000585         C          NaN  ...  -8.606970  41.162283   194\n",
              "1710665  1404171463620000698         C          NaN  ...  -8.612469  41.146020    32\n",
              "1710666  1404171367620000670         C          NaN  ...  -8.610138  41.140845    30\n",
              "1710668  1404141826620000248         B          NaN  ...  -8.630712  41.154885    62\n",
              "1710669  1404157147620000079         B          NaN  ...  -8.615538  41.140629    27\n",
              "\n",
              "[5 rows x 19 columns]"
            ]
          },
          "metadata": {
            "tags": []
          },
          "execution_count": 8
        }
      ]
    },
    {
      "cell_type": "code",
      "metadata": {
        "id": "gSHRoI5_JhPd",
        "colab": {
          "base_uri": "https://localhost:8080/",
          "height": 204
        },
        "outputId": "d5d0fa7d-e9b1-47e0-9bf1-339168a869aa"
      },
      "source": [
        "# Preparando os dados de latitude/longitude para inserir no mapa\n",
        "dest_df = train_df[['latitude', 'longitude','TAXI_ID']].copy()\n",
        "dest_df.tail()"
      ],
      "execution_count": null,
      "outputs": [
        {
          "output_type": "execute_result",
          "data": {
            "text/html": [
              "<div>\n",
              "<style scoped>\n",
              "    .dataframe tbody tr th:only-of-type {\n",
              "        vertical-align: middle;\n",
              "    }\n",
              "\n",
              "    .dataframe tbody tr th {\n",
              "        vertical-align: top;\n",
              "    }\n",
              "\n",
              "    .dataframe thead th {\n",
              "        text-align: right;\n",
              "    }\n",
              "</style>\n",
              "<table border=\"1\" class=\"dataframe\">\n",
              "  <thead>\n",
              "    <tr style=\"text-align: right;\">\n",
              "      <th></th>\n",
              "      <th>latitude</th>\n",
              "      <th>longitude</th>\n",
              "      <th>TAXI_ID</th>\n",
              "    </tr>\n",
              "  </thead>\n",
              "  <tbody>\n",
              "    <tr>\n",
              "      <th>1710663</th>\n",
              "      <td>41.162283</td>\n",
              "      <td>-8.606970</td>\n",
              "      <td>20000585</td>\n",
              "    </tr>\n",
              "    <tr>\n",
              "      <th>1710665</th>\n",
              "      <td>41.146020</td>\n",
              "      <td>-8.612469</td>\n",
              "      <td>20000698</td>\n",
              "    </tr>\n",
              "    <tr>\n",
              "      <th>1710666</th>\n",
              "      <td>41.140845</td>\n",
              "      <td>-8.610138</td>\n",
              "      <td>20000670</td>\n",
              "    </tr>\n",
              "    <tr>\n",
              "      <th>1710668</th>\n",
              "      <td>41.154885</td>\n",
              "      <td>-8.630712</td>\n",
              "      <td>20000248</td>\n",
              "    </tr>\n",
              "    <tr>\n",
              "      <th>1710669</th>\n",
              "      <td>41.140629</td>\n",
              "      <td>-8.615538</td>\n",
              "      <td>20000079</td>\n",
              "    </tr>\n",
              "  </tbody>\n",
              "</table>\n",
              "</div>"
            ],
            "text/plain": [
              "          latitude  longitude   TAXI_ID\n",
              "1710663  41.162283  -8.606970  20000585\n",
              "1710665  41.146020  -8.612469  20000698\n",
              "1710666  41.140845  -8.610138  20000670\n",
              "1710668  41.154885  -8.630712  20000248\n",
              "1710669  41.140629  -8.615538  20000079"
            ]
          },
          "metadata": {
            "tags": []
          },
          "execution_count": 9
        }
      ]
    },
    {
      "cell_type": "code",
      "metadata": {
        "id": "16n6TdJMuPb-",
        "colab": {
          "base_uri": "https://localhost:8080/"
        },
        "outputId": "c1c8fbd1-6cf6-40fe-bd38-99a68ec71bd2"
      },
      "source": [
        "# Mapa da região de Porto\n",
        "mapa = folium.Map(location=[41.149472, -8.610778], zoom_start=4)\n",
        "\n",
        "#Conversão dos dados para o mapa da região\n",
        "dest_fo = dest_df[['latitude','longitude']].values.tolist()\n",
        "HeatMap(dest_fo,radius = 20).add_to(mapa)\n"
      ],
      "execution_count": null,
      "outputs": [
        {
          "output_type": "execute_result",
          "data": {
            "text/plain": [
              "<folium.plugins.heat_map.HeatMap at 0x7f3c2b4e2d50>"
            ]
          },
          "metadata": {
            "tags": []
          },
          "execution_count": 10
        }
      ]
    },
    {
      "cell_type": "code",
      "metadata": {
        "id": "q3fPnsG-grUX"
      },
      "source": [
        "#Visualização do mapa\n",
        "mapa.save('mapa.html')"
      ],
      "execution_count": null,
      "outputs": []
    },
    {
      "cell_type": "code",
      "metadata": {
        "colab": {
          "base_uri": "https://localhost:8080/",
          "height": 710
        },
        "id": "zXSLL8VcEi0R",
        "outputId": "cc1bcf46-8acb-43c5-a2e2-855573aa64db"
      },
      "source": [
        "#Outras visualizações\n",
        "\n",
        "#Tipos de Ligação ('CALL_TYPE' no dataset de treinamento)\n",
        "call = train_df.groupby('DAY_TYPE')['CALL_TYPE']\n",
        "call_p = pd.concat([call.value_counts(), call.value_counts(normalize=True).mul(100)],axis=1, keys=('Contagem','Porcentagem'))\n",
        "#Visualização por box chart\n",
        "\n",
        "x = ['A','B','C']\n",
        "perc = call_p['Porcentagem']\n",
        "#graf1 = plt.bar(x,perc, color = 'green', label = 'Porcentagem')\n",
        "fig_1 = plt.figure(figsize=(9,9))\n",
        "axes_1 = fig_1.add_axes([0,0,1,1])\n",
        "axes_1.set_xlabel('Tipos de ligações')\n",
        "axes_1.set_ylabel('Porcentagem %')\n",
        "plt.bar(x,perc)\n",
        "# zip joins x and y coordinates in pairs\n",
        "for x,y in zip(x,perc):\n",
        "\n",
        "    label = \"{:.2f}\".format(y)\n",
        "\n",
        "    plt.annotate(label, # this is the text\n",
        "                 (x,y), # this is the point to label\n",
        "                 textcoords=\"offset points\", # how to position the text\n",
        "                 xytext=(0,10), # distance from text to points (x,y)\n",
        "                 ha='center') # horizontal alignment can be left, right or center\n",
        "\n",
        "plt.show()"
      ],
      "execution_count": null,
      "outputs": [
        {
          "output_type": "display_data",
          "data": {
            "image/png": "[encoded data removed]",
            "text/plain": [
              "<Figure size 648x648 with 1 Axes>"
            ]
          },
          "metadata": {
            "tags": [],
            "needs_background": "light"
          }
        }
      ]
    },
    {
      "cell_type": "code",
      "metadata": {
        "colab": {
          "base_uri": "https://localhost:8080/",
          "height": 282
        },
        "id": "Iwyj_fAmW3O4",
        "outputId": "66801ca2-a9ca-4037-a4ea-ec048566bc2c"
      },
      "source": [
        "#Visualizando origin_call em relação à data\n",
        "plt.scatter(train_df['longitude'],train_df['latitude'])"
      ],
      "execution_count": null,
      "outputs": [
        {
          "output_type": "execute_result",
          "data": {
            "text/plain": [
              "<matplotlib.collections.PathCollection at 0x7fb5c2fd8b50>"
            ]
          },
          "metadata": {
            "tags": []
          },
          "execution_count": 56
        },
        {
          "output_type": "display_data",
          "data": {
            "image/png": "[encoded data removed]",
            "text/plain": [
              "<Figure size 432x288 with 1 Axes>"
            ]
          },
          "metadata": {
            "tags": [],
            "needs_background": "light"
          }
        }
      ]
    },
    {
      "cell_type": "code",
      "metadata": {
        "colab": {
          "base_uri": "https://localhost:8080/",
          "height": 282
        },
        "id": "8CedYMAlgNN0",
        "outputId": "8e2ecd2f-e102-428e-942f-cf2f930535d4"
      },
      "source": [
        "plt.scatter(train_df['longitude'],train_df['Ano'])\n",
        "plt.scatter(train_df['latitude'],train_df['Ano'])"
      ],
      "execution_count": null,
      "outputs": [
        {
          "output_type": "execute_result",
          "data": {
            "text/plain": [
              "<matplotlib.collections.PathCollection at 0x7fb5c316b490>"
            ]
          },
          "metadata": {
            "tags": []
          },
          "execution_count": 57
        },
        {
          "output_type": "display_data",
          "data": {
            "image/png": "[encoded data removed]",
            "text/plain": [
              "<Figure size 432x288 with 1 Axes>"
            ]
          },
          "metadata": {
            "tags": [],
            "needs_background": "light"
          }
        }
      ]
    },
    {
      "cell_type": "code",
      "metadata": {
        "colab": {
          "base_uri": "https://localhost:8080/",
          "height": 282
        },
        "id": "wHXD1HZKgATG",
        "outputId": "f2e87c28-af44-4302-ea9e-ae8386aeb741"
      },
      "source": [
        "plt.scatter(train_df['longitude'],train_df['Mes'])\n",
        "plt.scatter(train_df['latitude'],train_df['Mes'])\n"
      ],
      "execution_count": null,
      "outputs": [
        {
          "output_type": "execute_result",
          "data": {
            "text/plain": [
              "<matplotlib.collections.PathCollection at 0x7fb5c2fd8a90>"
            ]
          },
          "metadata": {
            "tags": []
          },
          "execution_count": 55
        },
        {
          "output_type": "display_data",
          "data": {
            "image/png": "[encoded data removed]",
            "text/plain": [
              "<Figure size 432x288 with 1 Axes>"
            ]
          },
          "metadata": {
            "tags": [],
            "needs_background": "light"
          }
        }
      ]
    }
  ]
}